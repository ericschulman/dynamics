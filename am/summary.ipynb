{
 "cells": [
  {
   "cell_type": "code",
   "execution_count": 1,
   "metadata": {},
   "outputs": [],
   "source": [
    "import pyreadstat    \n",
    "#conda install -c conda-forge pyreadstat \n",
    "\n",
    "%load_ext autoreload\n",
    "%autoreload 2\n",
    "\n",
    "import numpy as np\n",
    "import pandas as pd\n",
    "import datetime\n",
    "#graphing\n",
    "import matplotlib.pyplot as plt\n",
    "#stats\n",
    "import statsmodels.api as sm\n",
    "from statsmodels.base.model import GenericLikelihoodModel\n",
    "\n",
    "#import testing\n",
    "import sys\n",
    "sys.path.append(\"../\")\n",
    "import selection_tests"
   ]
  },
  {
   "cell_type": "code",
   "execution_count": 9,
   "metadata": {},
   "outputs": [
    {
     "data": {
      "text/plain": [
       "Index(['dart', 'subgrupo', 'producto', 'cprov', 'numart', 'month', 'c', 'ptp',\n",
       "       'p', 'ofeun', 'dfo', 'tp', 's', 'peso', 'sf', 'dtm', 'q', 'x', 'dem',\n",
       "       'exde', 'markup', 'timeacti', 'qout'],\n",
       "      dtype='object')"
      ]
     },
     "execution_count": 9,
     "metadata": {},
     "output_type": "execute_result"
    }
   ],
   "source": [
    "dataframe, meta = pyreadstat.read_dta('Selec42.dta')\n",
    "dataframe.to_csv('Selec42.csv')\n",
    "dataframe.columns"
   ]
  },
  {
   "cell_type": "code",
   "execution_count": 13,
   "metadata": {},
   "outputs": [
    {
     "name": "stdout",
     "output_type": "stream",
     "text": [
      "Optimization terminated successfully.\n",
      "         Current function value: 0.518137\n",
      "         Iterations 16\n"
     ]
    },
    {
     "data": {
      "text/html": [
       "<table class=\"simpletable\">\n",
       "<caption>Probit Regression Results</caption>\n",
       "<tr>\n",
       "  <th>Dep. Variable:</th>        <td>tp</td>        <th>  No. Observations:  </th>  <td> 58174</td> \n",
       "</tr>\n",
       "<tr>\n",
       "  <th>Model:</th>              <td>Probit</td>      <th>  Df Residuals:      </th>  <td> 58171</td> \n",
       "</tr>\n",
       "<tr>\n",
       "  <th>Method:</th>               <td>MLE</td>       <th>  Df Model:          </th>  <td>     2</td> \n",
       "</tr>\n",
       "<tr>\n",
       "  <th>Date:</th>          <td>Tue, 06 Jul 2021</td> <th>  Pseudo R-squ.:     </th>  <td>0.2074</td> \n",
       "</tr>\n",
       "<tr>\n",
       "  <th>Time:</th>              <td>18:50:47</td>     <th>  Log-Likelihood:    </th> <td> -30142.</td>\n",
       "</tr>\n",
       "<tr>\n",
       "  <th>converged:</th>           <td>True</td>       <th>  LL-Null:           </th> <td> -38032.</td>\n",
       "</tr>\n",
       "<tr>\n",
       "  <th> </th>                      <td> </td>        <th>  LLR p-value:       </th>  <td> 0.000</td> \n",
       "</tr>\n",
       "</table>\n",
       "<table class=\"simpletable\">\n",
       "<tr>\n",
       "     <td></td>       <th>coef</th>     <th>std err</th>      <th>z</th>      <th>P>|z|</th>  <th>[0.025</th>    <th>0.975]</th>  \n",
       "</tr>\n",
       "<tr>\n",
       "  <th>c</th>      <td>     3e-05</td> <td> 1.62e-05</td> <td>    1.856</td> <td> 0.064</td> <td>-1.69e-06</td> <td> 6.17e-05</td>\n",
       "</tr>\n",
       "<tr>\n",
       "  <th>s</th>      <td>    0.0002</td> <td> 2.16e-06</td> <td>   83.866</td> <td> 0.000</td> <td>    0.000</td> <td>    0.000</td>\n",
       "</tr>\n",
       "<tr>\n",
       "  <th>markup</th> <td>   -4.0016</td> <td>    0.034</td> <td> -116.239</td> <td> 0.000</td> <td>   -4.069</td> <td>   -3.934</td>\n",
       "</tr>\n",
       "</table>"
      ],
      "text/plain": [
       "<class 'statsmodels.iolib.summary.Summary'>\n",
       "\"\"\"\n",
       "                          Probit Regression Results                           \n",
       "==============================================================================\n",
       "Dep. Variable:                     tp   No. Observations:                58174\n",
       "Model:                         Probit   Df Residuals:                    58171\n",
       "Method:                           MLE   Df Model:                            2\n",
       "Date:                Tue, 06 Jul 2021   Pseudo R-squ.:                  0.2074\n",
       "Time:                        18:50:47   Log-Likelihood:                -30142.\n",
       "converged:                       True   LL-Null:                       -38032.\n",
       "                                        LLR p-value:                     0.000\n",
       "==============================================================================\n",
       "                 coef    std err          z      P>|z|      [0.025      0.975]\n",
       "------------------------------------------------------------------------------\n",
       "c               3e-05   1.62e-05      1.856      0.064   -1.69e-06    6.17e-05\n",
       "s              0.0002   2.16e-06     83.866      0.000       0.000       0.000\n",
       "markup        -4.0016      0.034   -116.239      0.000      -4.069      -3.934\n",
       "==============================================================================\n",
       "\"\"\""
      ]
     },
     "execution_count": 13,
     "metadata": {},
     "output_type": "execute_result"
    }
   ],
   "source": [
    "# ln st = stock\n",
    "# ct = ln wholsale price\n",
    "# bt = pt-1 - ct\n",
    "#ln yt-1 demand? 'x',\n",
    "\n",
    "y_names = ['tp']\n",
    "x_names = ['c','s','markup']\n",
    "data = dataframe[x_names+y_names].dropna()\n",
    "y = data[y_names]\n",
    "x = data[x_names]\n",
    "\n",
    "probit = sm.Probit(y,x)\n",
    "probit_fit = probit.fit()\n",
    "probit_fit.summary()"
   ]
  },
  {
   "cell_type": "code",
   "execution_count": null,
   "metadata": {},
   "outputs": [],
   "source": []
  }
 ],
 "metadata": {
  "kernelspec": {
   "display_name": "Python 3",
   "language": "python",
   "name": "python3"
  },
  "language_info": {
   "codemirror_mode": {
    "name": "ipython",
    "version": 3
   },
   "file_extension": ".py",
   "mimetype": "text/x-python",
   "name": "python",
   "nbconvert_exporter": "python",
   "pygments_lexer": "ipython3",
   "version": "3.7.3"
  }
 },
 "nbformat": 4,
 "nbformat_minor": 2
}
