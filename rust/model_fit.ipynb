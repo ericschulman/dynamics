{
 "cells": [
  {
   "cell_type": "code",
   "execution_count": 1,
   "metadata": {},
   "outputs": [],
   "source": [
    "%load_ext autoreload\n",
    "%autoreload 2\n",
    "\n",
    "import numpy as np\n",
    "import pandas as pd\n",
    "import datetime\n",
    "#graphing\n",
    "import matplotlib.pyplot as plt\n",
    "#stats\n",
    "import statsmodels.api as sm\n",
    "from statsmodels.base.model import GenericLikelihoodModel\n",
    "\n",
    "#import testing\n",
    "import sys\n",
    "sys.path.append(\"../\")\n",
    "import selection_tests"
   ]
  },
  {
   "cell_type": "code",
   "execution_count": 2,
   "metadata": {},
   "outputs": [],
   "source": [
    "#format the bus .dat from augirregabiria and mira's website\n",
    "data = np.fromfile('bus1234.dat')\n",
    "data = data.reshape(int(len(data)/6),6)\n",
    "data = pd.DataFrame(data,columns=['id','group','year','month','replace','miles'])\n",
    "\n",
    "#save to .csv\n",
    "data.to_csv('bus1234.csv')\n",
    "\n",
    "#divide by 1e6 (use the same scale are Rust and AM)\n",
    "data['miles'] = (data['miles'])/1e6\n",
    "\n",
    "#switch to date time for ease \n",
    "data['date'] = pd.to_datetime(data[['year', 'month']].assign(Day=1))\n",
    "data = data[['id','group','date','replace','miles']]\n",
    "\n",
    "#lag date\n",
    "date_lag = data.copy()\n",
    "date_lag['date'] = date_lag['date'] - pd.DateOffset(months=1)\n",
    "data = data.merge(date_lag, how='left', on=['id','group','date'] , suffixes=('','_next'))\n",
    "data = data.dropna()"
   ]
  },
  {
   "cell_type": "code",
   "execution_count": 3,
   "metadata": {},
   "outputs": [
    {
     "name": "stdout",
     "output_type": "stream",
     "text": [
      "Optimization terminated successfully.\n",
      "         Current function value: 0.036542\n",
      "         Iterations: 64\n",
      "         Function evaluations: 123\n",
      "                                 CCP Results                                  \n",
      "==============================================================================\n",
      "Dep. Variable:                replace   Log-Likelihood:                -298.04\n",
      "Model:                            CCP   AIC:                             598.1\n",
      "Method:            Maximum Likelihood   BIC:                             605.1\n",
      "Date:                Tue, 03 Aug 2021                                         \n",
      "Time:                        16:59:01                                         \n",
      "No. Observations:                8156                                         \n",
      "Df Residuals:                    8155                                         \n",
      "Df Model:                           0                                         \n",
      "==============================================================================\n",
      "                 coef    std err          z      P>|z|      [0.025      0.975]\n",
      "------------------------------------------------------------------------------\n",
      "theta1        -0.5244      0.093     -5.668      0.000      -0.706      -0.343\n",
      "RC           -10.1461      0.984    -10.308      0.000     -12.075      -8.217\n",
      "==============================================================================\n"
     ]
    }
   ],
   "source": [
    "#define cost functon using lambda expression\n",
    "linear_cost = lambda params, x, i: (1-i)*x*params[i] + i*params[i]\n",
    "\n",
    "linear_model = selection_tests.CCP(data['replace'], data['miles'], \n",
    "                                   data['miles_next'], ['theta1','RC'], linear_cost,.9999)\n",
    "print(linear_model.results.summary())"
   ]
  },
  {
   "cell_type": "code",
   "execution_count": 4,
   "metadata": {},
   "outputs": [
    {
     "name": "stdout",
     "output_type": "stream",
     "text": [
      "Optimization terminated successfully.\n",
      "         Current function value: 0.037247\n",
      "         Iterations: 65\n",
      "         Function evaluations: 122\n",
      "                                 CCP Results                                  \n",
      "==============================================================================\n",
      "Dep. Variable:                replace   Log-Likelihood:                -303.79\n",
      "Model:                            CCP   AIC:                             609.6\n",
      "Method:            Maximum Likelihood   BIC:                             616.6\n",
      "Date:                Tue, 03 Aug 2021                                         \n",
      "Time:                        16:59:01                                         \n",
      "No. Observations:                8156                                         \n",
      "Df Residuals:                    8155                                         \n",
      "Df Model:                           0                                         \n",
      "==============================================================================\n",
      "                 coef    std err          z      P>|z|      [0.025      0.975]\n",
      "------------------------------------------------------------------------------\n",
      "theta1        -7.4027      0.800     -9.258      0.000      -8.970      -5.836\n",
      "RC            -7.4884      0.391    -19.138      0.000      -8.255      -6.721\n",
      "==============================================================================\n"
     ]
    }
   ],
   "source": [
    "linear_model = selection_tests.CCP(data['replace'], data['miles'],\n",
    "                                   data['miles_next'], ['theta1','RC'], linear_cost,.5)\n",
    "print(linear_model.results.summary())"
   ]
  },
  {
   "cell_type": "code",
   "execution_count": 5,
   "metadata": {},
   "outputs": [
    {
     "name": "stdout",
     "output_type": "stream",
     "text": [
      "Optimization terminated successfully.\n",
      "         Current function value: 0.037276\n",
      "         Iterations: 71\n",
      "         Function evaluations: 139\n",
      "[-14.44699099  -7.43576269]\n",
      "Optimization terminated successfully.\n",
      "         Current function value: 0.036542\n",
      "         Iterations: 64\n",
      "         Function evaluations: 123\n",
      "[ -0.52444452 -10.14609925]\n",
      "regular: test, llr, omega ----\n",
      "3.4288061420568425 5.9860991413958295 0.01933135806467295\n",
      "---- \n"
     ]
    },
    {
     "data": {
      "text/plain": [
       "(1, 3.4288061420568425)"
      ]
     },
     "execution_count": 5,
     "metadata": {},
     "output_type": "execute_result"
    }
   ],
   "source": [
    "regular_test_model = selection_tests.regular_test(data,selection_tests.setup_test)\n",
    "regular_test_model\n",
    "#(2, -3.5293299272230336)\n",
    "#(2, -3.428806141951201)"
   ]
  },
  {
   "cell_type": "code",
   "execution_count": 6,
   "metadata": {},
   "outputs": [
    {
     "name": "stdout",
     "output_type": "stream",
     "text": [
      "Optimization terminated successfully.\n",
      "         Current function value: 0.037276\n",
      "         Iterations: 71\n",
      "         Function evaluations: 139\n",
      "[-14.44699099  -7.43576269]\n",
      "Optimization terminated successfully.\n",
      "         Current function value: 0.036542\n",
      "         Iterations: 64\n",
      "         Function evaluations: 123\n",
      "[ -0.52444452 -10.14609925]\n"
     ]
    },
    {
     "data": {
      "text/plain": [
       "(1, 1.7693194072604168, 5.610374183495992)"
      ]
     },
     "execution_count": 6,
     "metadata": {},
     "output_type": "execute_result"
    }
   ],
   "source": [
    "# Fit the bootstrap test model\n",
    "bootstrap_test_model = selection_tests.bootstrap_test(data,selection_tests.setup_test, trials=100)\n",
    "bootstrap_test_model"
   ]
  },
  {
   "cell_type": "code",
   "execution_count": 7,
   "metadata": {},
   "outputs": [
    {
     "name": "stdout",
     "output_type": "stream",
     "text": [
      "Optimization terminated successfully.\n",
      "         Current function value: 0.037276\n",
      "         Iterations: 71\n",
      "         Function evaluations: 139\n",
      "[-14.44699099  -7.43576269]\n",
      "Optimization terminated successfully.\n",
      "         Current function value: 0.036542\n",
      "         Iterations: 64\n",
      "         Function evaluations: 123\n",
      "[ -0.52444452 -10.14609925]\n",
      "Optimization terminated successfully.\n",
      "         Current function value: 0.037276\n",
      "         Iterations: 71\n",
      "         Function evaluations: 139\n",
      "[-14.44699099  -7.43576269]\n",
      "Optimization terminated successfully.\n",
      "         Current function value: 0.036542\n",
      "         Iterations: 64\n",
      "         Function evaluations: 123\n",
      "[ -0.52444452 -10.14609925]\n",
      "Optimization terminated successfully.\n",
      "         Current function value: 0.037276\n",
      "         Iterations: 71\n",
      "         Function evaluations: 139\n",
      "[-14.44699099  -7.43576269]\n",
      "Optimization terminated successfully.\n",
      "         Current function value: 0.036542\n",
      "         Iterations: 64\n",
      "         Function evaluations: 123\n",
      "[ -0.52444452 -10.14609925]\n",
      "Optimization terminated successfully.\n",
      "         Current function value: 0.037276\n",
      "         Iterations: 71\n",
      "         Function evaluations: 139\n",
      "[-14.44699099  -7.43576269]\n",
      "Optimization terminated successfully.\n",
      "         Current function value: 0.036542\n",
      "         Iterations: 64\n",
      "         Function evaluations: 123\n",
      "[ -0.52444452 -10.14609925]\n",
      "regular: test, llr, omega ----\n",
      "3.4288061420568425 5.9860991413958295 0.01933135806467295\n",
      "---- \n",
      "Optimization terminated successfully.\n",
      "         Current function value: 0.037276\n",
      "         Iterations: 71\n",
      "         Function evaluations: 139\n",
      "[-14.44699099  -7.43576269]\n",
      "Optimization terminated successfully.\n",
      "         Current function value: 0.036542\n",
      "         Iterations: 64\n",
      "         Function evaluations: 123\n",
      "[ -0.52444452 -10.14609925]\n",
      "Optimization terminated successfully.\n",
      "         Current function value: 0.037276\n",
      "         Iterations: 71\n",
      "         Function evaluations: 139\n",
      "[-14.44699099  -7.43576269]\n",
      "Optimization terminated successfully.\n",
      "         Current function value: 0.036542\n",
      "         Iterations: 64\n",
      "         Function evaluations: 123\n",
      "[ -0.52444452 -10.14609925]\n",
      "Optimization terminated successfully.\n",
      "         Current function value: 0.037276\n",
      "         Iterations: 71\n",
      "         Function evaluations: 139\n",
      "[-14.44699099  -7.43576269]\n",
      "Optimization terminated successfully.\n",
      "         Current function value: 0.036542\n",
      "         Iterations: 64\n",
      "         Function evaluations: 123\n",
      "[ -0.52444452 -10.14609925]\n",
      "\\begin{center}\n",
      "\\begin{tabular}{ccccc}\n",
      "\\toprule\n",
      "\\textbf{Version} & \\textbf{Result} & \\textbf{90 \\% CI} & \\textbf{95 \\% CI} & \\textbf{99 \\% CI} \\\\ \\midrule\n",
      "Shi (2015) & H0 & [1.668, 5.176] & [1.170, 5.674] & [-0.246, 7.091] \\\\\n",
      "Classical & H1 & [1.784, 5.074] & [1.470, 5.388] & [0.853, 6.005] \\\\\n",
      "Bootstrap & H1 & [2.018, 4.974] & [1.830, 5.337] & [1.440, 6.006] \\\\\n",
      "\\bottomrule\n",
      "\\end{tabular}\n",
      "\\end{center}\n"
     ]
    }
   ],
   "source": [
    "selection_tests.test_table(data,selection_tests.setup_test, trials=100)"
   ]
  },
  {
   "cell_type": "code",
   "execution_count": null,
   "metadata": {},
   "outputs": [],
   "source": []
  },
  {
   "cell_type": "code",
   "execution_count": null,
   "metadata": {},
   "outputs": [],
   "source": []
  },
  {
   "cell_type": "code",
   "execution_count": null,
   "metadata": {},
   "outputs": [],
   "source": []
  }
 ],
 "metadata": {
  "kernelspec": {
   "display_name": "Python 3",
   "language": "python",
   "name": "python3"
  },
  "language_info": {
   "codemirror_mode": {
    "name": "ipython",
    "version": 3
   },
   "file_extension": ".py",
   "mimetype": "text/x-python",
   "name": "python",
   "nbconvert_exporter": "python",
   "pygments_lexer": "ipython3",
   "version": "3.8.8"
  }
 },
 "nbformat": 4,
 "nbformat_minor": 4
}
