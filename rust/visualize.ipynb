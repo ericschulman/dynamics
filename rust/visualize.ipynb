{
 "cells": [
  {
   "cell_type": "code",
   "execution_count": 20,
   "metadata": {},
   "outputs": [
    {
     "name": "stdout",
     "output_type": "stream",
     "text": [
      "The autoreload extension is already loaded. To reload it, use:\n",
      "  %reload_ext autoreload\n"
     ]
    }
   ],
   "source": [
    "%load_ext autoreload\n",
    "%autoreload 2\n",
    "\n",
    "import numpy as np\n",
    "import pandas as pd\n",
    "import datetime\n",
    "#graphing\n",
    "import matplotlib.pyplot as plt\n",
    "#stats\n",
    "import statsmodels.api as sm\n",
    "from statsmodels.base.model import GenericLikelihoodModel\n",
    "\n",
    "#import testing\n",
    "import sys\n",
    "sys.path.append(\"../\")\n",
    "import selection_tests"
   ]
  },
  {
   "cell_type": "code",
   "execution_count": 21,
   "metadata": {},
   "outputs": [],
   "source": [
    "#format the bus .dat from augirregabiria and mira's website\n",
    "data = np.fromfile('bus1234.dat')\n",
    "data = data.reshape(int(len(data)/6),6)\n",
    "data = pd.DataFrame(data,columns=['id','group','year','month','replace','miles'])\n",
    "\n",
    "#save to .csv\n",
    "data.to_csv('bus1234.csv')\n",
    "\n",
    "#divide by 1e6 (use the same scale are Rust and AM)\n",
    "data['miles'] = (data['miles'])/1e6\n",
    "\n",
    "#switch to date time for ease \n",
    "data['date'] = pd.to_datetime(data[['year', 'month']].assign(Day=1))\n",
    "data = data[['id','group','date','replace','miles']]\n",
    "\n",
    "#lag date\n",
    "date_lag = data.copy()\n",
    "date_lag['date'] = date_lag['date'] - pd.DateOffset(months=1)\n",
    "data = data.merge(date_lag, how='left', on=['id','group','date'] , suffixes=('','_next'))\n",
    "data = data.dropna()"
   ]
  },
  {
   "cell_type": "code",
   "execution_count": 22,
   "metadata": {},
   "outputs": [
    {
     "name": "stdout",
     "output_type": "stream",
     "text": [
      "Optimization terminated successfully.\n",
      "         Current function value: 0.036542\n",
      "         Iterations: 64\n",
      "         Function evaluations: 123\n",
      "Optimization terminated successfully.\n",
      "         Current function value: 0.037276\n",
      "         Iterations: 71\n",
      "         Function evaluations: 139\n"
     ]
    }
   ],
   "source": [
    "linear_cost = lambda params, x, i: (1-i)*x*params[i] + i*params[i]\n",
    "linear_model = selection_tests.CCP(data['replace'], data['miles'], data['miles_next'], ['theta1','RC'],\n",
    "                                   linear_cost,.9999)\n",
    "logit_model = selection_tests.CCP(data['replace'], data['miles'], data['miles_next'], ['theta1','RC'],\n",
    "                                   linear_cost,0)\n",
    "p_linear = selection_tests.hm_prob(linear_model.results.params, linear_model.cost, linear_model.pr_obs,\n",
    "                                linear_model.trans, linear_model.states,.9999)\n",
    "\n",
    "p_logit = selection_tests.hm_prob(logit_model.results.params, logit_model.cost, logit_model.pr_obs,\n",
    "                                logit_model.trans, linear_model.states,0)"
   ]
  },
  {
   "cell_type": "code",
   "execution_count": 23,
   "metadata": {},
   "outputs": [],
   "source": [
    "pr_data = np.zeros(linear_model.states.shape)\n",
    "for i in range(linear_model.states.shape[0]):\n",
    "    pr_replace = data['replace'][data['miles'] >=linear_model.states[i]]\n",
    "    pr_data[i] = pr_replace.sum()/pr_replace.shape[0]"
   ]
  },
  {
   "cell_type": "code",
   "execution_count": 24,
   "metadata": {},
   "outputs": [
    {
     "data": {
      "image/png": "[encoded data removed]",
      "text/plain": [
       "<Figure size 432x288 with 1 Axes>"
      ]
     },
     "metadata": {
      "needs_background": "light"
     },
     "output_type": "display_data"
    }
   ],
   "source": [
    "#set up plot of both value functions\n",
    "fig = plt.figure()\n",
    "\n",
    "#make a plot of both value functions\n",
    "plt.ylabel('Engine Replacment Probability')\n",
    "plt.xlabel('Mileage (divided by 10e6)')\n",
    "#plt.scatter(linear_model.states, pr_data,label='Raw Data')\n",
    "plt.plot(linear_model.states, p_logit, label='Logit')\n",
    "plt.plot(linear_model.states, p_linear,label='CCP')\n",
    "\n",
    "plt.legend()\n",
    "plt.savefig('rust1.png')\n",
    "plt.show()"
   ]
  },
  {
   "cell_type": "code",
   "execution_count": null,
   "metadata": {},
   "outputs": [],
   "source": []
  }
 ],
 "metadata": {
  "kernelspec": {
   "display_name": "Python 3",
   "language": "python",
   "name": "python3"
  },
  "language_info": {
   "codemirror_mode": {
    "name": "ipython",
    "version": 3
   },
   "file_extension": ".py",
   "mimetype": "text/x-python",
   "name": "python",
   "nbconvert_exporter": "python",
   "pygments_lexer": "ipython3",
   "version": "3.7.3"
  }
 },
 "nbformat": 4,
 "nbformat_minor": 2
}
